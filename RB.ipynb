{
 "cells": [
  {
   "cell_type": "markdown",
   "metadata": {},
   "source": [
    "# Survival Analysis for Running Backs"
   ]
  },
  {
   "cell_type": "markdown",
   "metadata": {},
   "source": [
    "The csv file being used in this project was extracted from the site ProFootballReference. It contains a large sample of the desired population of running backs that will be used for the survival analysis of running backs in the NFL based on several attributes. "
   ]
  },
  {
   "cell_type": "markdown",
   "metadata": {},
   "source": [
    "## Importing the Required Libraries"
   ]
  },
  {
   "cell_type": "code",
   "execution_count": 10,
   "metadata": {
    "collapsed": true
   },
   "outputs": [],
   "source": [
    "import pandas as pd\n",
    "import numpy as np\n",
    "from bs4 import BeautifulSoup\n",
    "import requests"
   ]
  },
  {
   "cell_type": "markdown",
   "metadata": {},
   "source": [
    "## Minor Cleanup of the Dataset"
   ]
  },
  {
   "cell_type": "code",
   "execution_count": 11,
   "metadata": {
    "collapsed": false
   },
   "outputs": [
    {
     "data": {
      "text/html": [
       "<div>\n",
       "<table border=\"1\" class=\"dataframe\">\n",
       "  <thead>\n",
       "    <tr style=\"text-align: right;\">\n",
       "      <th></th>\n",
       "      <th>Rk</th>\n",
       "      <th>Year</th>\n",
       "      <th>Rnd</th>\n",
       "      <th>Pick</th>\n",
       "      <th>Unnamed: 4</th>\n",
       "      <th>Pos</th>\n",
       "      <th>DrAge</th>\n",
       "      <th>Tm</th>\n",
       "      <th>From</th>\n",
       "      <th>To</th>\n",
       "      <th>...</th>\n",
       "      <th>G</th>\n",
       "      <th>GS</th>\n",
       "      <th>Att</th>\n",
       "      <th>Yds</th>\n",
       "      <th>TD</th>\n",
       "      <th>Rec</th>\n",
       "      <th>Yds.1</th>\n",
       "      <th>TD.1</th>\n",
       "      <th>College/Univ</th>\n",
       "      <th>Unnamed: 23</th>\n",
       "    </tr>\n",
       "  </thead>\n",
       "  <tbody>\n",
       "    <tr>\n",
       "      <th>0</th>\n",
       "      <td>1</td>\n",
       "      <td>2016</td>\n",
       "      <td>1</td>\n",
       "      <td>4</td>\n",
       "      <td>Ezekiel Elliott\\ElliEz00</td>\n",
       "      <td>RB</td>\n",
       "      <td>21.0</td>\n",
       "      <td>DAL</td>\n",
       "      <td>2016.0</td>\n",
       "      <td>2016.0</td>\n",
       "      <td>...</td>\n",
       "      <td>15.0</td>\n",
       "      <td>15.0</td>\n",
       "      <td>322.0</td>\n",
       "      <td>1631.0</td>\n",
       "      <td>15.0</td>\n",
       "      <td>32.0</td>\n",
       "      <td>363.0</td>\n",
       "      <td>1.0</td>\n",
       "      <td>Ohio St.</td>\n",
       "      <td>College Stats</td>\n",
       "    </tr>\n",
       "    <tr>\n",
       "      <th>1</th>\n",
       "      <td>2</td>\n",
       "      <td>2016</td>\n",
       "      <td>2</td>\n",
       "      <td>45</td>\n",
       "      <td>Derrick Henry\\HenrDe00</td>\n",
       "      <td>RB</td>\n",
       "      <td>22.0</td>\n",
       "      <td>TEN</td>\n",
       "      <td>2016.0</td>\n",
       "      <td>2016.0</td>\n",
       "      <td>...</td>\n",
       "      <td>15.0</td>\n",
       "      <td>1.0</td>\n",
       "      <td>110.0</td>\n",
       "      <td>490.0</td>\n",
       "      <td>5.0</td>\n",
       "      <td>13.0</td>\n",
       "      <td>137.0</td>\n",
       "      <td>0.0</td>\n",
       "      <td>Alabama</td>\n",
       "      <td>College Stats</td>\n",
       "    </tr>\n",
       "    <tr>\n",
       "      <th>2</th>\n",
       "      <td>3</td>\n",
       "      <td>2016</td>\n",
       "      <td>3</td>\n",
       "      <td>73</td>\n",
       "      <td>Kenyan Drake\\DrakKe00</td>\n",
       "      <td>RB</td>\n",
       "      <td>22.0</td>\n",
       "      <td>MIA</td>\n",
       "      <td>2016.0</td>\n",
       "      <td>2016.0</td>\n",
       "      <td>...</td>\n",
       "      <td>16.0</td>\n",
       "      <td>1.0</td>\n",
       "      <td>33.0</td>\n",
       "      <td>179.0</td>\n",
       "      <td>2.0</td>\n",
       "      <td>9.0</td>\n",
       "      <td>46.0</td>\n",
       "      <td>0.0</td>\n",
       "      <td>Alabama</td>\n",
       "      <td>College Stats</td>\n",
       "    </tr>\n",
       "    <tr>\n",
       "      <th>3</th>\n",
       "      <td>4</td>\n",
       "      <td>2016</td>\n",
       "      <td>3</td>\n",
       "      <td>90</td>\n",
       "      <td>C.J. Prosise\\ProsC.00</td>\n",
       "      <td>RB</td>\n",
       "      <td>22.0</td>\n",
       "      <td>SEA</td>\n",
       "      <td>2016.0</td>\n",
       "      <td>2016.0</td>\n",
       "      <td>...</td>\n",
       "      <td>6.0</td>\n",
       "      <td>2.0</td>\n",
       "      <td>30.0</td>\n",
       "      <td>172.0</td>\n",
       "      <td>1.0</td>\n",
       "      <td>17.0</td>\n",
       "      <td>208.0</td>\n",
       "      <td>0.0</td>\n",
       "      <td>Notre Dame</td>\n",
       "      <td>College Stats</td>\n",
       "    </tr>\n",
       "    <tr>\n",
       "      <th>4</th>\n",
       "      <td>5</td>\n",
       "      <td>2016</td>\n",
       "      <td>4</td>\n",
       "      <td>119</td>\n",
       "      <td>Tyler Ervin\\ErviTy00</td>\n",
       "      <td>RB</td>\n",
       "      <td>22.0</td>\n",
       "      <td>HOU</td>\n",
       "      <td>2016.0</td>\n",
       "      <td>2016.0</td>\n",
       "      <td>...</td>\n",
       "      <td>12.0</td>\n",
       "      <td>0.0</td>\n",
       "      <td>1.0</td>\n",
       "      <td>3.0</td>\n",
       "      <td>0.0</td>\n",
       "      <td>3.0</td>\n",
       "      <td>18.0</td>\n",
       "      <td>0.0</td>\n",
       "      <td>San Jose St.</td>\n",
       "      <td>College Stats</td>\n",
       "    </tr>\n",
       "  </tbody>\n",
       "</table>\n",
       "<p>5 rows × 24 columns</p>\n",
       "</div>"
      ],
      "text/plain": [
       "   Rk  Year  Rnd  Pick                Unnamed: 4 Pos  DrAge   Tm    From  \\\n",
       "0   1  2016    1     4  Ezekiel Elliott\\ElliEz00  RB   21.0  DAL  2016.0   \n",
       "1   2  2016    2    45    Derrick Henry\\HenrDe00  RB   22.0  TEN  2016.0   \n",
       "2   3  2016    3    73     Kenyan Drake\\DrakKe00  RB   22.0  MIA  2016.0   \n",
       "3   4  2016    3    90     C.J. Prosise\\ProsC.00  RB   22.0  SEA  2016.0   \n",
       "4   5  2016    4   119      Tyler Ervin\\ErviTy00  RB   22.0  HOU  2016.0   \n",
       "\n",
       "       To      ...           G    GS    Att     Yds    TD   Rec  Yds.1  TD.1  \\\n",
       "0  2016.0      ...        15.0  15.0  322.0  1631.0  15.0  32.0  363.0   1.0   \n",
       "1  2016.0      ...        15.0   1.0  110.0   490.0   5.0  13.0  137.0   0.0   \n",
       "2  2016.0      ...        16.0   1.0   33.0   179.0   2.0   9.0   46.0   0.0   \n",
       "3  2016.0      ...         6.0   2.0   30.0   172.0   1.0  17.0  208.0   0.0   \n",
       "4  2016.0      ...        12.0   0.0    1.0     3.0   0.0   3.0   18.0   0.0   \n",
       "\n",
       "   College/Univ    Unnamed: 23  \n",
       "0      Ohio St.  College Stats  \n",
       "1       Alabama  College Stats  \n",
       "2       Alabama  College Stats  \n",
       "3    Notre Dame  College Stats  \n",
       "4  San Jose St.  College Stats  \n",
       "\n",
       "[5 rows x 24 columns]"
      ]
     },
     "execution_count": 11,
     "metadata": {},
     "output_type": "execute_result"
    }
   ],
   "source": [
    "nfl = pd.read_csv(\"nflrb_data.csv\")\n",
    "nfl.head()"
   ]
  },
  {
   "cell_type": "code",
   "execution_count": 12,
   "metadata": {
    "collapsed": false
   },
   "outputs": [
    {
     "data": {
      "text/html": [
       "<div>\n",
       "<table border=\"1\" class=\"dataframe\">\n",
       "  <thead>\n",
       "    <tr style=\"text-align: right;\">\n",
       "      <th></th>\n",
       "      <th>Year</th>\n",
       "      <th>Rnd</th>\n",
       "      <th>Pick</th>\n",
       "      <th>Unnamed: 4</th>\n",
       "      <th>Pos</th>\n",
       "      <th>DrAge</th>\n",
       "      <th>Tm</th>\n",
       "      <th>From</th>\n",
       "      <th>To</th>\n",
       "      <th>AP1</th>\n",
       "      <th>...</th>\n",
       "      <th>CarAV</th>\n",
       "      <th>G</th>\n",
       "      <th>GS</th>\n",
       "      <th>Att</th>\n",
       "      <th>Yds</th>\n",
       "      <th>TD</th>\n",
       "      <th>Rec</th>\n",
       "      <th>Yds.1</th>\n",
       "      <th>TD.1</th>\n",
       "      <th>College/Univ</th>\n",
       "    </tr>\n",
       "  </thead>\n",
       "  <tbody>\n",
       "    <tr>\n",
       "      <th>0</th>\n",
       "      <td>2016</td>\n",
       "      <td>1</td>\n",
       "      <td>4</td>\n",
       "      <td>Ezekiel Elliott\\ElliEz00</td>\n",
       "      <td>RB</td>\n",
       "      <td>21.0</td>\n",
       "      <td>DAL</td>\n",
       "      <td>2016.0</td>\n",
       "      <td>2016.0</td>\n",
       "      <td>1</td>\n",
       "      <td>...</td>\n",
       "      <td>16.0</td>\n",
       "      <td>15.0</td>\n",
       "      <td>15.0</td>\n",
       "      <td>322.0</td>\n",
       "      <td>1631.0</td>\n",
       "      <td>15.0</td>\n",
       "      <td>32.0</td>\n",
       "      <td>363.0</td>\n",
       "      <td>1.0</td>\n",
       "      <td>Ohio St.</td>\n",
       "    </tr>\n",
       "    <tr>\n",
       "      <th>1</th>\n",
       "      <td>2016</td>\n",
       "      <td>2</td>\n",
       "      <td>45</td>\n",
       "      <td>Derrick Henry\\HenrDe00</td>\n",
       "      <td>RB</td>\n",
       "      <td>22.0</td>\n",
       "      <td>TEN</td>\n",
       "      <td>2016.0</td>\n",
       "      <td>2016.0</td>\n",
       "      <td>0</td>\n",
       "      <td>...</td>\n",
       "      <td>4.0</td>\n",
       "      <td>15.0</td>\n",
       "      <td>1.0</td>\n",
       "      <td>110.0</td>\n",
       "      <td>490.0</td>\n",
       "      <td>5.0</td>\n",
       "      <td>13.0</td>\n",
       "      <td>137.0</td>\n",
       "      <td>0.0</td>\n",
       "      <td>Alabama</td>\n",
       "    </tr>\n",
       "    <tr>\n",
       "      <th>2</th>\n",
       "      <td>2016</td>\n",
       "      <td>3</td>\n",
       "      <td>73</td>\n",
       "      <td>Kenyan Drake\\DrakKe00</td>\n",
       "      <td>RB</td>\n",
       "      <td>22.0</td>\n",
       "      <td>MIA</td>\n",
       "      <td>2016.0</td>\n",
       "      <td>2016.0</td>\n",
       "      <td>0</td>\n",
       "      <td>...</td>\n",
       "      <td>2.0</td>\n",
       "      <td>16.0</td>\n",
       "      <td>1.0</td>\n",
       "      <td>33.0</td>\n",
       "      <td>179.0</td>\n",
       "      <td>2.0</td>\n",
       "      <td>9.0</td>\n",
       "      <td>46.0</td>\n",
       "      <td>0.0</td>\n",
       "      <td>Alabama</td>\n",
       "    </tr>\n",
       "    <tr>\n",
       "      <th>3</th>\n",
       "      <td>2016</td>\n",
       "      <td>3</td>\n",
       "      <td>90</td>\n",
       "      <td>C.J. Prosise\\ProsC.00</td>\n",
       "      <td>RB</td>\n",
       "      <td>22.0</td>\n",
       "      <td>SEA</td>\n",
       "      <td>2016.0</td>\n",
       "      <td>2016.0</td>\n",
       "      <td>0</td>\n",
       "      <td>...</td>\n",
       "      <td>3.0</td>\n",
       "      <td>6.0</td>\n",
       "      <td>2.0</td>\n",
       "      <td>30.0</td>\n",
       "      <td>172.0</td>\n",
       "      <td>1.0</td>\n",
       "      <td>17.0</td>\n",
       "      <td>208.0</td>\n",
       "      <td>0.0</td>\n",
       "      <td>Notre Dame</td>\n",
       "    </tr>\n",
       "    <tr>\n",
       "      <th>4</th>\n",
       "      <td>2016</td>\n",
       "      <td>4</td>\n",
       "      <td>119</td>\n",
       "      <td>Tyler Ervin\\ErviTy00</td>\n",
       "      <td>RB</td>\n",
       "      <td>22.0</td>\n",
       "      <td>HOU</td>\n",
       "      <td>2016.0</td>\n",
       "      <td>2016.0</td>\n",
       "      <td>0</td>\n",
       "      <td>...</td>\n",
       "      <td>0.0</td>\n",
       "      <td>12.0</td>\n",
       "      <td>0.0</td>\n",
       "      <td>1.0</td>\n",
       "      <td>3.0</td>\n",
       "      <td>0.0</td>\n",
       "      <td>3.0</td>\n",
       "      <td>18.0</td>\n",
       "      <td>0.0</td>\n",
       "      <td>San Jose St.</td>\n",
       "    </tr>\n",
       "  </tbody>\n",
       "</table>\n",
       "<p>5 rows × 22 columns</p>\n",
       "</div>"
      ],
      "text/plain": [
       "   Year  Rnd  Pick                Unnamed: 4 Pos  DrAge   Tm    From      To  \\\n",
       "0  2016    1     4  Ezekiel Elliott\\ElliEz00  RB   21.0  DAL  2016.0  2016.0   \n",
       "1  2016    2    45    Derrick Henry\\HenrDe00  RB   22.0  TEN  2016.0  2016.0   \n",
       "2  2016    3    73     Kenyan Drake\\DrakKe00  RB   22.0  MIA  2016.0  2016.0   \n",
       "3  2016    3    90     C.J. Prosise\\ProsC.00  RB   22.0  SEA  2016.0  2016.0   \n",
       "4  2016    4   119      Tyler Ervin\\ErviTy00  RB   22.0  HOU  2016.0  2016.0   \n",
       "\n",
       "   AP1      ...       CarAV     G    GS    Att     Yds    TD   Rec  Yds.1  \\\n",
       "0    1      ...        16.0  15.0  15.0  322.0  1631.0  15.0  32.0  363.0   \n",
       "1    0      ...         4.0  15.0   1.0  110.0   490.0   5.0  13.0  137.0   \n",
       "2    0      ...         2.0  16.0   1.0   33.0   179.0   2.0   9.0   46.0   \n",
       "3    0      ...         3.0   6.0   2.0   30.0   172.0   1.0  17.0  208.0   \n",
       "4    0      ...         0.0  12.0   0.0    1.0     3.0   0.0   3.0   18.0   \n",
       "\n",
       "   TD.1  College/Univ  \n",
       "0   1.0      Ohio St.  \n",
       "1   0.0       Alabama  \n",
       "2   0.0       Alabama  \n",
       "3   0.0    Notre Dame  \n",
       "4   0.0  San Jose St.  \n",
       "\n",
       "[5 rows x 22 columns]"
      ]
     },
     "execution_count": 12,
     "metadata": {},
     "output_type": "execute_result"
    }
   ],
   "source": [
    "## getting rid of the useless column that is never going to be used\n",
    "nfl.drop([\"Rk\",\"Unnamed: 23\"], axis=1, inplace=True)\n",
    "nfl.head()"
   ]
  },
  {
   "cell_type": "markdown",
   "metadata": {},
   "source": [
    "### Renaming the Columns"
   ]
  },
  {
   "cell_type": "code",
   "execution_count": 13,
   "metadata": {
    "collapsed": false
   },
   "outputs": [
    {
     "data": {
      "text/plain": [
       "Index(['Year', 'Rnd', 'Pick', 'Unnamed: 4', 'Pos', 'DrAge', 'Tm', 'From', 'To',\n",
       "       'AP1', 'PB', 'St', 'CarAV', 'G', 'GS', 'Att', 'Yds', 'TD', 'Rec',\n",
       "       'Yds.1', 'TD.1', 'College/Univ'],\n",
       "      dtype='object')"
      ]
     },
     "execution_count": 13,
     "metadata": {},
     "output_type": "execute_result"
    }
   ],
   "source": [
    "nfl.columns"
   ]
  },
  {
   "cell_type": "code",
   "execution_count": 14,
   "metadata": {
    "collapsed": true
   },
   "outputs": [],
   "source": [
    "nfl.columns = ['Year', 'Rnd', 'Pick', 'Player', 'Pos', 'DrAge', 'Tm', 'From', 'To',\n",
    "       'AP1', 'PB', 'St', 'CarAV', 'G', 'GS', 'Att', 'Yds', 'TD', 'Rec',\n",
    "       'Yds.1', 'TD.1', 'College/Univ']"
   ]
  },
  {
   "cell_type": "markdown",
   "metadata": {},
   "source": [
    "### Getting Rid of Some Missing Data"
   ]
  },
  {
   "cell_type": "code",
   "execution_count": 15,
   "metadata": {
    "collapsed": false
   },
   "outputs": [
    {
     "data": {
      "text/plain": [
       "Year              0\n",
       "Rnd               0\n",
       "Pick              0\n",
       "Player            0\n",
       "Pos               0\n",
       "DrAge           344\n",
       "Tm                0\n",
       "From            361\n",
       "To              361\n",
       "AP1               0\n",
       "PB                0\n",
       "St                0\n",
       "CarAV           361\n",
       "G               361\n",
       "GS              361\n",
       "Att             450\n",
       "Yds             450\n",
       "TD              450\n",
       "Rec             488\n",
       "Yds.1           488\n",
       "TD.1            488\n",
       "College/Univ      2\n",
       "dtype: int64"
      ]
     },
     "execution_count": 15,
     "metadata": {},
     "output_type": "execute_result"
    }
   ],
   "source": [
    "nfl.isnull().sum()"
   ]
  },
  {
   "cell_type": "code",
   "execution_count": 16,
   "metadata": {
    "collapsed": false
   },
   "outputs": [
    {
     "name": "stdout",
     "output_type": "stream",
     "text": [
      "Number of Observations: 1500\n"
     ]
    }
   ],
   "source": [
    "print(\"Number of Observations:\", nfl.shape[0])"
   ]
  },
  {
   "cell_type": "code",
   "execution_count": 17,
   "metadata": {
    "collapsed": false
   },
   "outputs": [
    {
     "name": "stdout",
     "output_type": "stream",
     "text": [
      "Number of Observations: 1139\n"
     ]
    }
   ],
   "source": [
    "## getting rid of the observations where not enough info could be found\n",
    "nfl = nfl[nfl[\"From\"].isnull() == False]\n",
    "print(\"Number of Observations:\", nfl.shape[0])"
   ]
  },
  {
   "cell_type": "code",
   "execution_count": 18,
   "metadata": {
    "collapsed": false
   },
   "outputs": [
    {
     "name": "stdout",
     "output_type": "stream",
     "text": [
      "Number of Observations: 1037\n"
     ]
    }
   ],
   "source": [
    "## getting rid of the players that did not retire by 2016\n",
    "nfl = nfl[nfl[\"To\"]!=2016]\n",
    "print(\"Number of Observations:\", nfl.shape[0])"
   ]
  },
  {
   "cell_type": "code",
   "execution_count": 19,
   "metadata": {
    "collapsed": false
   },
   "outputs": [
    {
     "data": {
      "text/plain": [
       "Year              0\n",
       "Rnd               0\n",
       "Pick              0\n",
       "Player            0\n",
       "Pos               0\n",
       "DrAge             0\n",
       "Tm                0\n",
       "From              0\n",
       "To                0\n",
       "AP1               0\n",
       "PB                0\n",
       "St                0\n",
       "CarAV             0\n",
       "G                 0\n",
       "GS                0\n",
       "Att              88\n",
       "Yds              88\n",
       "TD               88\n",
       "Rec             127\n",
       "Yds.1           127\n",
       "TD.1            127\n",
       "College/Univ      0\n",
       "dtype: int64"
      ]
     },
     "execution_count": 19,
     "metadata": {},
     "output_type": "execute_result"
    }
   ],
   "source": [
    "nfl.isnull().sum()"
   ]
  },
  {
   "cell_type": "markdown",
   "metadata": {},
   "source": [
    "## Adding New Data "
   ]
  },
  {
   "cell_type": "markdown",
   "metadata": {},
   "source": [
    "When the original csv file was extracted, it contained a column that had the player's name along with a snippet of the URL that was part of their ProFootballReference page. This function returns a 2X2 matrix that contains lists of the player's name and respective ProFootballReference URL. "
   ]
  },
  {
   "cell_type": "code",
   "execution_count": 22,
   "metadata": {
    "collapsed": false
   },
   "outputs": [],
   "source": [
    "baseurl = \"http://www.pro-football-reference.com/players/\"\n",
    "def split_player(row):\n",
    "    split_list = row[\"Player\"].split(\"\\\\\")\n",
    "    player_name = split_list[0]\n",
    "    player_url_code = split_list[1]\n",
    "    first_letter = player_url_code[0]\n",
    "    full_url = baseurl + first_letter + \"/\" + player_url_code + \".htm\"\n",
    "    return [player_name, full_url]\n",
    "a = nfl.apply(split_player,axis=1)"
   ]
  },
  {
   "cell_type": "code",
   "execution_count": 23,
   "metadata": {
    "collapsed": false,
    "scrolled": true
   },
   "outputs": [],
   "source": [
    "# converted the lists into numpy arrays and then added them into the dataframe\n",
    "nfl[\"Player\"] = np.array([row[0] for row in a])\n",
    "nfl[\"PFR_URL\"] = np.array([row[1] for row in a])"
   ]
  },
  {
   "cell_type": "code",
   "execution_count": 24,
   "metadata": {
    "collapsed": false
   },
   "outputs": [
    {
     "data": {
      "text/html": [
       "<div>\n",
       "<table border=\"1\" class=\"dataframe\">\n",
       "  <thead>\n",
       "    <tr style=\"text-align: right;\">\n",
       "      <th></th>\n",
       "      <th>Year</th>\n",
       "      <th>Rnd</th>\n",
       "      <th>Pick</th>\n",
       "      <th>Player</th>\n",
       "      <th>Pos</th>\n",
       "      <th>DrAge</th>\n",
       "      <th>Tm</th>\n",
       "      <th>From</th>\n",
       "      <th>To</th>\n",
       "      <th>AP1</th>\n",
       "      <th>...</th>\n",
       "      <th>G</th>\n",
       "      <th>GS</th>\n",
       "      <th>Att</th>\n",
       "      <th>Yds</th>\n",
       "      <th>TD</th>\n",
       "      <th>Rec</th>\n",
       "      <th>Yds.1</th>\n",
       "      <th>TD.1</th>\n",
       "      <th>College/Univ</th>\n",
       "      <th>PFR_URL</th>\n",
       "    </tr>\n",
       "  </thead>\n",
       "  <tbody>\n",
       "    <tr>\n",
       "      <th>35</th>\n",
       "      <td>2015</td>\n",
       "      <td>5</td>\n",
       "      <td>138</td>\n",
       "      <td>David Cobb</td>\n",
       "      <td>RB</td>\n",
       "      <td>22.0</td>\n",
       "      <td>TEN</td>\n",
       "      <td>2015.0</td>\n",
       "      <td>2015.0</td>\n",
       "      <td>0</td>\n",
       "      <td>...</td>\n",
       "      <td>7.0</td>\n",
       "      <td>1.0</td>\n",
       "      <td>52.0</td>\n",
       "      <td>146.0</td>\n",
       "      <td>1.0</td>\n",
       "      <td>1.0</td>\n",
       "      <td>-2.0</td>\n",
       "      <td>0.0</td>\n",
       "      <td>Minnesota</td>\n",
       "      <td>http://www.pro-football-reference.com/players/...</td>\n",
       "    </tr>\n",
       "    <tr>\n",
       "      <th>37</th>\n",
       "      <td>2015</td>\n",
       "      <td>5</td>\n",
       "      <td>155</td>\n",
       "      <td>Karlos Williams</td>\n",
       "      <td>RB</td>\n",
       "      <td>22.0</td>\n",
       "      <td>BUF</td>\n",
       "      <td>2015.0</td>\n",
       "      <td>2015.0</td>\n",
       "      <td>0</td>\n",
       "      <td>...</td>\n",
       "      <td>11.0</td>\n",
       "      <td>3.0</td>\n",
       "      <td>93.0</td>\n",
       "      <td>517.0</td>\n",
       "      <td>7.0</td>\n",
       "      <td>11.0</td>\n",
       "      <td>96.0</td>\n",
       "      <td>2.0</td>\n",
       "      <td>Florida St.</td>\n",
       "      <td>http://www.pro-football-reference.com/players/...</td>\n",
       "    </tr>\n",
       "    <tr>\n",
       "      <th>40</th>\n",
       "      <td>2015</td>\n",
       "      <td>6</td>\n",
       "      <td>205</td>\n",
       "      <td>Josh Robinson</td>\n",
       "      <td>RB</td>\n",
       "      <td>23.0</td>\n",
       "      <td>IND</td>\n",
       "      <td>2015.0</td>\n",
       "      <td>2015.0</td>\n",
       "      <td>0</td>\n",
       "      <td>...</td>\n",
       "      <td>5.0</td>\n",
       "      <td>0.0</td>\n",
       "      <td>17.0</td>\n",
       "      <td>39.0</td>\n",
       "      <td>0.0</td>\n",
       "      <td>6.0</td>\n",
       "      <td>33.0</td>\n",
       "      <td>0.0</td>\n",
       "      <td>Mississippi St.</td>\n",
       "      <td>http://www.pro-football-reference.com/players/...</td>\n",
       "    </tr>\n",
       "    <tr>\n",
       "      <th>43</th>\n",
       "      <td>2015</td>\n",
       "      <td>7</td>\n",
       "      <td>231</td>\n",
       "      <td>Joey Iosefa</td>\n",
       "      <td>FB</td>\n",
       "      <td>24.0</td>\n",
       "      <td>TAM</td>\n",
       "      <td>2015.0</td>\n",
       "      <td>2015.0</td>\n",
       "      <td>0</td>\n",
       "      <td>...</td>\n",
       "      <td>2.0</td>\n",
       "      <td>0.0</td>\n",
       "      <td>15.0</td>\n",
       "      <td>51.0</td>\n",
       "      <td>0.0</td>\n",
       "      <td>NaN</td>\n",
       "      <td>NaN</td>\n",
       "      <td>NaN</td>\n",
       "      <td>Hawaii</td>\n",
       "      <td>http://www.pro-football-reference.com/players/...</td>\n",
       "    </tr>\n",
       "    <tr>\n",
       "      <th>45</th>\n",
       "      <td>2014</td>\n",
       "      <td>2</td>\n",
       "      <td>54</td>\n",
       "      <td>Bishop Sankey</td>\n",
       "      <td>RB</td>\n",
       "      <td>21.0</td>\n",
       "      <td>TEN</td>\n",
       "      <td>2014.0</td>\n",
       "      <td>2015.0</td>\n",
       "      <td>0</td>\n",
       "      <td>...</td>\n",
       "      <td>29.0</td>\n",
       "      <td>12.0</td>\n",
       "      <td>199.0</td>\n",
       "      <td>762.0</td>\n",
       "      <td>3.0</td>\n",
       "      <td>32.0</td>\n",
       "      <td>272.0</td>\n",
       "      <td>1.0</td>\n",
       "      <td>Washington</td>\n",
       "      <td>http://www.pro-football-reference.com/players/...</td>\n",
       "    </tr>\n",
       "  </tbody>\n",
       "</table>\n",
       "<p>5 rows × 23 columns</p>\n",
       "</div>"
      ],
      "text/plain": [
       "    Year  Rnd  Pick           Player Pos  DrAge   Tm    From      To  AP1  \\\n",
       "35  2015    5   138       David Cobb  RB   22.0  TEN  2015.0  2015.0    0   \n",
       "37  2015    5   155  Karlos Williams  RB   22.0  BUF  2015.0  2015.0    0   \n",
       "40  2015    6   205    Josh Robinson  RB   23.0  IND  2015.0  2015.0    0   \n",
       "43  2015    7   231      Joey Iosefa  FB   24.0  TAM  2015.0  2015.0    0   \n",
       "45  2014    2    54    Bishop Sankey  RB   21.0  TEN  2014.0  2015.0    0   \n",
       "\n",
       "                          ...                             G    GS    Att  \\\n",
       "35                        ...                           7.0   1.0   52.0   \n",
       "37                        ...                          11.0   3.0   93.0   \n",
       "40                        ...                           5.0   0.0   17.0   \n",
       "43                        ...                           2.0   0.0   15.0   \n",
       "45                        ...                          29.0  12.0  199.0   \n",
       "\n",
       "      Yds   TD   Rec  Yds.1  TD.1     College/Univ  \\\n",
       "35  146.0  1.0   1.0   -2.0   0.0        Minnesota   \n",
       "37  517.0  7.0  11.0   96.0   2.0      Florida St.   \n",
       "40   39.0  0.0   6.0   33.0   0.0  Mississippi St.   \n",
       "43   51.0  0.0   NaN    NaN   NaN           Hawaii   \n",
       "45  762.0  3.0  32.0  272.0   1.0       Washington   \n",
       "\n",
       "                                              PFR_URL  \n",
       "35  http://www.pro-football-reference.com/players/...  \n",
       "37  http://www.pro-football-reference.com/players/...  \n",
       "40  http://www.pro-football-reference.com/players/...  \n",
       "43  http://www.pro-football-reference.com/players/...  \n",
       "45  http://www.pro-football-reference.com/players/...  \n",
       "\n",
       "[5 rows x 23 columns]"
      ]
     },
     "execution_count": 24,
     "metadata": {},
     "output_type": "execute_result"
    }
   ],
   "source": [
    "nfl.head()"
   ]
  },
  {
   "cell_type": "markdown",
   "metadata": {},
   "source": [
    "Since the original csv file did not contain the players' height and weight, this function was created to take in a player's respective URL and parse the website to find their height and weight using BeautifulSoup4. If the info could not be found, it would be assigned a missing data value using an error exception. "
   ]
  },
  {
   "cell_type": "code",
   "execution_count": 56,
   "metadata": {
    "collapsed": false
   },
   "outputs": [
    {
     "name": "stdout",
     "output_type": "stream",
     "text": [
      "35    (5-11, 229lb)\n",
      "37     (6-1, 225lb)\n",
      "40     (5-9, 215lb)\n",
      "43     (6-0, 245lb)\n",
      "45    (5-10, 209lb)\n",
      "dtype: object\n"
     ]
    }
   ],
   "source": [
    "def player_info(row):\n",
    "    response = requests.get(row[\"PFR_URL\"])\n",
    "    content = response.content\n",
    "    parser = BeautifulSoup(content, 'html.parser')\n",
    "    try:\n",
    "        height = parser.find_all(itemprop=\"height\")[0].text\n",
    "        weight = parser.find_all(itemprop=\"weight\")[0].text\n",
    "    except IndexError:\n",
    "        height=weight=None\n",
    "    return height, weight\n",
    "\n",
    "a = nfl.apply(player_info, axis=1)\n",
    "print(a.head())"
   ]
  },
  {
   "cell_type": "code",
   "execution_count": null,
   "metadata": {
    "collapsed": true
   },
   "outputs": [],
   "source": [
    "nfl[\"Height\"] = np.array([row[0] for row in a])\n",
    "nfl[\"Weight\"] = np.array([row[1] for row in a])"
   ]
  },
  {
   "cell_type": "code",
   "execution_count": 66,
   "metadata": {
    "collapsed": false
   },
   "outputs": [],
   "source": [
    "## deleting the observations where no height or weight could be parsed\n",
    "nfl = nfl[nfl[\"Height\"].isnull() == False]\n",
    "nfl = nfl[nfl[\"Weight\"].isnull() == False]"
   ]
  },
  {
   "cell_type": "code",
   "execution_count": 68,
   "metadata": {
    "collapsed": false
   },
   "outputs": [],
   "source": [
    "## converting the height from character to integer \n",
    "def convert_height(row):\n",
    "    height = row[\"Height\"].split(\"-\")\n",
    "    converted_height = 12*int(height[0]) + int(height[1])\n",
    "    return converted_height\n",
    "nfl[\"Height\"] = nfl.apply(convert_height,axis=1)"
   ]
  },
  {
   "cell_type": "code",
   "execution_count": 74,
   "metadata": {
    "collapsed": false
   },
   "outputs": [],
   "source": [
    "## converting the weight from character to integer\n",
    "def convert_weight(row):\n",
    "    weight = int(row[\"Weight\"][:3])\n",
    "    return weight\n",
    "nfl[\"Weight\"] = nfl.apply(convert_weight, axis=1)"
   ]
  },
  {
   "cell_type": "code",
   "execution_count": 75,
   "metadata": {
    "collapsed": false
   },
   "outputs": [
    {
     "data": {
      "text/html": [
       "<div>\n",
       "<table border=\"1\" class=\"dataframe\">\n",
       "  <thead>\n",
       "    <tr style=\"text-align: right;\">\n",
       "      <th></th>\n",
       "      <th>Year</th>\n",
       "      <th>Rnd</th>\n",
       "      <th>Pick</th>\n",
       "      <th>Player</th>\n",
       "      <th>Pos</th>\n",
       "      <th>DrAge</th>\n",
       "      <th>Tm</th>\n",
       "      <th>From</th>\n",
       "      <th>To</th>\n",
       "      <th>AP1</th>\n",
       "      <th>...</th>\n",
       "      <th>Att</th>\n",
       "      <th>Yds</th>\n",
       "      <th>TD</th>\n",
       "      <th>Rec</th>\n",
       "      <th>Yds.1</th>\n",
       "      <th>TD.1</th>\n",
       "      <th>College/Univ</th>\n",
       "      <th>PFR_URL</th>\n",
       "      <th>Height</th>\n",
       "      <th>Weight</th>\n",
       "    </tr>\n",
       "  </thead>\n",
       "  <tbody>\n",
       "    <tr>\n",
       "      <th>35</th>\n",
       "      <td>2015</td>\n",
       "      <td>5</td>\n",
       "      <td>138</td>\n",
       "      <td>David Cobb</td>\n",
       "      <td>RB</td>\n",
       "      <td>22.0</td>\n",
       "      <td>TEN</td>\n",
       "      <td>2015.0</td>\n",
       "      <td>2015.0</td>\n",
       "      <td>0</td>\n",
       "      <td>...</td>\n",
       "      <td>52.0</td>\n",
       "      <td>146.0</td>\n",
       "      <td>1.0</td>\n",
       "      <td>1.0</td>\n",
       "      <td>-2.0</td>\n",
       "      <td>0.0</td>\n",
       "      <td>Minnesota</td>\n",
       "      <td>http://www.pro-football-reference.com/players/...</td>\n",
       "      <td>71</td>\n",
       "      <td>229</td>\n",
       "    </tr>\n",
       "    <tr>\n",
       "      <th>37</th>\n",
       "      <td>2015</td>\n",
       "      <td>5</td>\n",
       "      <td>155</td>\n",
       "      <td>Karlos Williams</td>\n",
       "      <td>RB</td>\n",
       "      <td>22.0</td>\n",
       "      <td>BUF</td>\n",
       "      <td>2015.0</td>\n",
       "      <td>2015.0</td>\n",
       "      <td>0</td>\n",
       "      <td>...</td>\n",
       "      <td>93.0</td>\n",
       "      <td>517.0</td>\n",
       "      <td>7.0</td>\n",
       "      <td>11.0</td>\n",
       "      <td>96.0</td>\n",
       "      <td>2.0</td>\n",
       "      <td>Florida St.</td>\n",
       "      <td>http://www.pro-football-reference.com/players/...</td>\n",
       "      <td>73</td>\n",
       "      <td>225</td>\n",
       "    </tr>\n",
       "    <tr>\n",
       "      <th>40</th>\n",
       "      <td>2015</td>\n",
       "      <td>6</td>\n",
       "      <td>205</td>\n",
       "      <td>Josh Robinson</td>\n",
       "      <td>RB</td>\n",
       "      <td>23.0</td>\n",
       "      <td>IND</td>\n",
       "      <td>2015.0</td>\n",
       "      <td>2015.0</td>\n",
       "      <td>0</td>\n",
       "      <td>...</td>\n",
       "      <td>17.0</td>\n",
       "      <td>39.0</td>\n",
       "      <td>0.0</td>\n",
       "      <td>6.0</td>\n",
       "      <td>33.0</td>\n",
       "      <td>0.0</td>\n",
       "      <td>Mississippi St.</td>\n",
       "      <td>http://www.pro-football-reference.com/players/...</td>\n",
       "      <td>69</td>\n",
       "      <td>215</td>\n",
       "    </tr>\n",
       "    <tr>\n",
       "      <th>43</th>\n",
       "      <td>2015</td>\n",
       "      <td>7</td>\n",
       "      <td>231</td>\n",
       "      <td>Joey Iosefa</td>\n",
       "      <td>FB</td>\n",
       "      <td>24.0</td>\n",
       "      <td>TAM</td>\n",
       "      <td>2015.0</td>\n",
       "      <td>2015.0</td>\n",
       "      <td>0</td>\n",
       "      <td>...</td>\n",
       "      <td>15.0</td>\n",
       "      <td>51.0</td>\n",
       "      <td>0.0</td>\n",
       "      <td>NaN</td>\n",
       "      <td>NaN</td>\n",
       "      <td>NaN</td>\n",
       "      <td>Hawaii</td>\n",
       "      <td>http://www.pro-football-reference.com/players/...</td>\n",
       "      <td>72</td>\n",
       "      <td>245</td>\n",
       "    </tr>\n",
       "    <tr>\n",
       "      <th>45</th>\n",
       "      <td>2014</td>\n",
       "      <td>2</td>\n",
       "      <td>54</td>\n",
       "      <td>Bishop Sankey</td>\n",
       "      <td>RB</td>\n",
       "      <td>21.0</td>\n",
       "      <td>TEN</td>\n",
       "      <td>2014.0</td>\n",
       "      <td>2015.0</td>\n",
       "      <td>0</td>\n",
       "      <td>...</td>\n",
       "      <td>199.0</td>\n",
       "      <td>762.0</td>\n",
       "      <td>3.0</td>\n",
       "      <td>32.0</td>\n",
       "      <td>272.0</td>\n",
       "      <td>1.0</td>\n",
       "      <td>Washington</td>\n",
       "      <td>http://www.pro-football-reference.com/players/...</td>\n",
       "      <td>70</td>\n",
       "      <td>209</td>\n",
       "    </tr>\n",
       "  </tbody>\n",
       "</table>\n",
       "<p>5 rows × 25 columns</p>\n",
       "</div>"
      ],
      "text/plain": [
       "    Year  Rnd  Pick           Player Pos  DrAge   Tm    From      To  AP1  \\\n",
       "35  2015    5   138       David Cobb  RB   22.0  TEN  2015.0  2015.0    0   \n",
       "37  2015    5   155  Karlos Williams  RB   22.0  BUF  2015.0  2015.0    0   \n",
       "40  2015    6   205    Josh Robinson  RB   23.0  IND  2015.0  2015.0    0   \n",
       "43  2015    7   231      Joey Iosefa  FB   24.0  TAM  2015.0  2015.0    0   \n",
       "45  2014    2    54    Bishop Sankey  RB   21.0  TEN  2014.0  2015.0    0   \n",
       "\n",
       "     ...      Att    Yds   TD   Rec  Yds.1  TD.1     College/Univ  \\\n",
       "35   ...     52.0  146.0  1.0   1.0   -2.0   0.0        Minnesota   \n",
       "37   ...     93.0  517.0  7.0  11.0   96.0   2.0      Florida St.   \n",
       "40   ...     17.0   39.0  0.0   6.0   33.0   0.0  Mississippi St.   \n",
       "43   ...     15.0   51.0  0.0   NaN    NaN   NaN           Hawaii   \n",
       "45   ...    199.0  762.0  3.0  32.0  272.0   1.0       Washington   \n",
       "\n",
       "                                              PFR_URL  Height  Weight  \n",
       "35  http://www.pro-football-reference.com/players/...      71     229  \n",
       "37  http://www.pro-football-reference.com/players/...      73     225  \n",
       "40  http://www.pro-football-reference.com/players/...      69     215  \n",
       "43  http://www.pro-football-reference.com/players/...      72     245  \n",
       "45  http://www.pro-football-reference.com/players/...      70     209  \n",
       "\n",
       "[5 rows x 25 columns]"
      ]
     },
     "execution_count": 75,
     "metadata": {},
     "output_type": "execute_result"
    }
   ],
   "source": [
    "nfl.head()"
   ]
  },
  {
   "cell_type": "code",
   "execution_count": 78,
   "metadata": {
    "collapsed": false
   },
   "outputs": [],
   "source": [
    "## Outputted the new dataframe into a new csv file \n",
    "nfl.to_csv(\"new_nflrb_data.csv\")"
   ]
  }
 ],
 "metadata": {
  "anaconda-cloud": {},
  "kernelspec": {
   "display_name": "Python 2",
   "language": "python",
   "name": "python2"
  },
  "language_info": {
   "codemirror_mode": {
    "name": "ipython",
    "version": 2
   },
   "file_extension": ".py",
   "mimetype": "text/x-python",
   "name": "python",
   "nbconvert_exporter": "python",
   "pygments_lexer": "ipython2",
   "version": "2.7.11"
  }
 },
 "nbformat": 4,
 "nbformat_minor": 1
}
